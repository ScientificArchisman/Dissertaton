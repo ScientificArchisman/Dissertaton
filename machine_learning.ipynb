{
  "cells": [
    {
      "cell_type": "code",
      "execution_count": null,
      "metadata": {
        "id": "8boWiNjiHv3E"
      },
      "outputs": [],
      "source": [
        "import numpy as np\n",
        "import matplotlib.pyplot as plt\n",
        "import seaborn as sns\n",
        "import pandas as pd\n",
        "divider = '===================================='\n",
        "import sklearn\n",
        "import autosklearn.classification as Classifier # Automatically selects the best model\n",
        "from sklearn.model_selection import train_test_split\n",
        "from sklearn.preprocessing import  LabelEncoder\n",
        "from sklearn.metrics import accuracy_score\n",
        "import seaborn as sns"
      ]
    },
    {
      "cell_type": "markdown",
      "source": [
        "# Importing the data in a csv file"
      ],
      "metadata": {
        "id": "aNCMa1OZYn2J"
      }
    },
    {
      "cell_type": "code",
      "execution_count": null,
      "metadata": {
        "colab": {
          "base_uri": "https://localhost:8080/",
          "height": 297
        },
        "id": "8ng-jok2Hv3H",
        "outputId": "865226f4-7dab-4a8c-b48d-dc16bf80cd57"
      },
      "outputs": [
        {
          "output_type": "execute_result",
          "data": {
            "text/plain": [
              "      Condition  abs_energy   autocorr  calc_mean  calc_median  calc_std  \\\n",
              "87549         Q    9.503015   9.503015   0.157435     0.163158  0.161346   \n",
              "87550         Q   35.362748  35.362748   0.324631     0.461667  0.289345   \n",
              "87551         Q   32.298332  32.298332   0.315615     0.437755  0.270380   \n",
              "87552         Q    6.180274   6.180274   0.100887     0.081013  0.151233   \n",
              "87553         Q   38.614038  38.614038   0.345208     0.418308  0.295506   \n",
              "\n",
              "        entropy   kurtosis  mean_abs_deviation  negative_turning  ...  \\\n",
              "87549  0.671934   0.725872            0.130433                18  ...   \n",
              "87550  0.717449  -1.322736            0.264798                 5  ...   \n",
              "87551  0.732751  -1.594944            0.252448                 9  ...   \n",
              "87552  0.716627  12.656483            0.087491                 7  ...   \n",
              "87553  0.710595  -1.512179            0.272379                 9  ...   \n",
              "\n",
              "       median_frequency  power_bandwidth  spectral_centroid  \\\n",
              "87549          4.043478        10.695187          10.569418   \n",
              "87550          1.347826         8.021390           7.661235   \n",
              "87551          2.021739         8.021390           8.490503   \n",
              "87552          7.413043        14.037433          12.664070   \n",
              "87553          1.347826         7.352941           8.243089   \n",
              "\n",
              "       spectral_decrease  spectral_distance  spectral_entropy  \\\n",
              "87549          -1.316918       -3862.513053          0.470369   \n",
              "87550          -1.881415       -7046.907556          0.304709   \n",
              "87551          -1.909501       -6583.628406          0.291207   \n",
              "87552          -0.645100       -3794.137385          0.663590   \n",
              "87553          -1.921883       -7234.797437          0.307459   \n",
              "\n",
              "       spectral_skewness  spectral_kurtosis  spectral_variation  total_energy  \n",
              "87549           1.751357           5.211207            0.261690      6.386435  \n",
              "87550           2.327616           8.116642            0.068754     23.765287  \n",
              "87551           2.097562           6.785864            0.091988     21.705869  \n",
              "87552           1.592966           4.909545            0.224194      4.153410  \n",
              "87553           2.172443           7.118649            0.086944     25.950295  \n",
              "\n",
              "[5 rows x 29 columns]"
            ],
            "text/html": [
              "\n",
              "  <div id=\"df-05ff4454-2671-4d00-ba50-72bc9cc890f5\">\n",
              "    <div class=\"colab-df-container\">\n",
              "      <div>\n",
              "<style scoped>\n",
              "    .dataframe tbody tr th:only-of-type {\n",
              "        vertical-align: middle;\n",
              "    }\n",
              "\n",
              "    .dataframe tbody tr th {\n",
              "        vertical-align: top;\n",
              "    }\n",
              "\n",
              "    .dataframe thead th {\n",
              "        text-align: right;\n",
              "    }\n",
              "</style>\n",
              "<table border=\"1\" class=\"dataframe\">\n",
              "  <thead>\n",
              "    <tr style=\"text-align: right;\">\n",
              "      <th></th>\n",
              "      <th>Condition</th>\n",
              "      <th>abs_energy</th>\n",
              "      <th>autocorr</th>\n",
              "      <th>calc_mean</th>\n",
              "      <th>calc_median</th>\n",
              "      <th>calc_std</th>\n",
              "      <th>entropy</th>\n",
              "      <th>kurtosis</th>\n",
              "      <th>mean_abs_deviation</th>\n",
              "      <th>negative_turning</th>\n",
              "      <th>...</th>\n",
              "      <th>median_frequency</th>\n",
              "      <th>power_bandwidth</th>\n",
              "      <th>spectral_centroid</th>\n",
              "      <th>spectral_decrease</th>\n",
              "      <th>spectral_distance</th>\n",
              "      <th>spectral_entropy</th>\n",
              "      <th>spectral_skewness</th>\n",
              "      <th>spectral_kurtosis</th>\n",
              "      <th>spectral_variation</th>\n",
              "      <th>total_energy</th>\n",
              "    </tr>\n",
              "  </thead>\n",
              "  <tbody>\n",
              "    <tr>\n",
              "      <th>87549</th>\n",
              "      <td>Q</td>\n",
              "      <td>9.503015</td>\n",
              "      <td>9.503015</td>\n",
              "      <td>0.157435</td>\n",
              "      <td>0.163158</td>\n",
              "      <td>0.161346</td>\n",
              "      <td>0.671934</td>\n",
              "      <td>0.725872</td>\n",
              "      <td>0.130433</td>\n",
              "      <td>18</td>\n",
              "      <td>...</td>\n",
              "      <td>4.043478</td>\n",
              "      <td>10.695187</td>\n",
              "      <td>10.569418</td>\n",
              "      <td>-1.316918</td>\n",
              "      <td>-3862.513053</td>\n",
              "      <td>0.470369</td>\n",
              "      <td>1.751357</td>\n",
              "      <td>5.211207</td>\n",
              "      <td>0.261690</td>\n",
              "      <td>6.386435</td>\n",
              "    </tr>\n",
              "    <tr>\n",
              "      <th>87550</th>\n",
              "      <td>Q</td>\n",
              "      <td>35.362748</td>\n",
              "      <td>35.362748</td>\n",
              "      <td>0.324631</td>\n",
              "      <td>0.461667</td>\n",
              "      <td>0.289345</td>\n",
              "      <td>0.717449</td>\n",
              "      <td>-1.322736</td>\n",
              "      <td>0.264798</td>\n",
              "      <td>5</td>\n",
              "      <td>...</td>\n",
              "      <td>1.347826</td>\n",
              "      <td>8.021390</td>\n",
              "      <td>7.661235</td>\n",
              "      <td>-1.881415</td>\n",
              "      <td>-7046.907556</td>\n",
              "      <td>0.304709</td>\n",
              "      <td>2.327616</td>\n",
              "      <td>8.116642</td>\n",
              "      <td>0.068754</td>\n",
              "      <td>23.765287</td>\n",
              "    </tr>\n",
              "    <tr>\n",
              "      <th>87551</th>\n",
              "      <td>Q</td>\n",
              "      <td>32.298332</td>\n",
              "      <td>32.298332</td>\n",
              "      <td>0.315615</td>\n",
              "      <td>0.437755</td>\n",
              "      <td>0.270380</td>\n",
              "      <td>0.732751</td>\n",
              "      <td>-1.594944</td>\n",
              "      <td>0.252448</td>\n",
              "      <td>9</td>\n",
              "      <td>...</td>\n",
              "      <td>2.021739</td>\n",
              "      <td>8.021390</td>\n",
              "      <td>8.490503</td>\n",
              "      <td>-1.909501</td>\n",
              "      <td>-6583.628406</td>\n",
              "      <td>0.291207</td>\n",
              "      <td>2.097562</td>\n",
              "      <td>6.785864</td>\n",
              "      <td>0.091988</td>\n",
              "      <td>21.705869</td>\n",
              "    </tr>\n",
              "    <tr>\n",
              "      <th>87552</th>\n",
              "      <td>Q</td>\n",
              "      <td>6.180274</td>\n",
              "      <td>6.180274</td>\n",
              "      <td>0.100887</td>\n",
              "      <td>0.081013</td>\n",
              "      <td>0.151233</td>\n",
              "      <td>0.716627</td>\n",
              "      <td>12.656483</td>\n",
              "      <td>0.087491</td>\n",
              "      <td>7</td>\n",
              "      <td>...</td>\n",
              "      <td>7.413043</td>\n",
              "      <td>14.037433</td>\n",
              "      <td>12.664070</td>\n",
              "      <td>-0.645100</td>\n",
              "      <td>-3794.137385</td>\n",
              "      <td>0.663590</td>\n",
              "      <td>1.592966</td>\n",
              "      <td>4.909545</td>\n",
              "      <td>0.224194</td>\n",
              "      <td>4.153410</td>\n",
              "    </tr>\n",
              "    <tr>\n",
              "      <th>87553</th>\n",
              "      <td>Q</td>\n",
              "      <td>38.614038</td>\n",
              "      <td>38.614038</td>\n",
              "      <td>0.345208</td>\n",
              "      <td>0.418308</td>\n",
              "      <td>0.295506</td>\n",
              "      <td>0.710595</td>\n",
              "      <td>-1.512179</td>\n",
              "      <td>0.272379</td>\n",
              "      <td>9</td>\n",
              "      <td>...</td>\n",
              "      <td>1.347826</td>\n",
              "      <td>7.352941</td>\n",
              "      <td>8.243089</td>\n",
              "      <td>-1.921883</td>\n",
              "      <td>-7234.797437</td>\n",
              "      <td>0.307459</td>\n",
              "      <td>2.172443</td>\n",
              "      <td>7.118649</td>\n",
              "      <td>0.086944</td>\n",
              "      <td>25.950295</td>\n",
              "    </tr>\n",
              "  </tbody>\n",
              "</table>\n",
              "<p>5 rows × 29 columns</p>\n",
              "</div>\n",
              "      <button class=\"colab-df-convert\" onclick=\"convertToInteractive('df-05ff4454-2671-4d00-ba50-72bc9cc890f5')\"\n",
              "              title=\"Convert this dataframe to an interactive table.\"\n",
              "              style=\"display:none;\">\n",
              "        \n",
              "  <svg xmlns=\"http://www.w3.org/2000/svg\" height=\"24px\"viewBox=\"0 0 24 24\"\n",
              "       width=\"24px\">\n",
              "    <path d=\"M0 0h24v24H0V0z\" fill=\"none\"/>\n",
              "    <path d=\"M18.56 5.44l.94 2.06.94-2.06 2.06-.94-2.06-.94-.94-2.06-.94 2.06-2.06.94zm-11 1L8.5 8.5l.94-2.06 2.06-.94-2.06-.94L8.5 2.5l-.94 2.06-2.06.94zm10 10l.94 2.06.94-2.06 2.06-.94-2.06-.94-.94-2.06-.94 2.06-2.06.94z\"/><path d=\"M17.41 7.96l-1.37-1.37c-.4-.4-.92-.59-1.43-.59-.52 0-1.04.2-1.43.59L10.3 9.45l-7.72 7.72c-.78.78-.78 2.05 0 2.83L4 21.41c.39.39.9.59 1.41.59.51 0 1.02-.2 1.41-.59l7.78-7.78 2.81-2.81c.8-.78.8-2.07 0-2.86zM5.41 20L4 18.59l7.72-7.72 1.47 1.35L5.41 20z\"/>\n",
              "  </svg>\n",
              "      </button>\n",
              "      \n",
              "  <style>\n",
              "    .colab-df-container {\n",
              "      display:flex;\n",
              "      flex-wrap:wrap;\n",
              "      gap: 12px;\n",
              "    }\n",
              "\n",
              "    .colab-df-convert {\n",
              "      background-color: #E8F0FE;\n",
              "      border: none;\n",
              "      border-radius: 50%;\n",
              "      cursor: pointer;\n",
              "      display: none;\n",
              "      fill: #1967D2;\n",
              "      height: 32px;\n",
              "      padding: 0 0 0 0;\n",
              "      width: 32px;\n",
              "    }\n",
              "\n",
              "    .colab-df-convert:hover {\n",
              "      background-color: #E2EBFA;\n",
              "      box-shadow: 0px 1px 2px rgba(60, 64, 67, 0.3), 0px 1px 3px 1px rgba(60, 64, 67, 0.15);\n",
              "      fill: #174EA6;\n",
              "    }\n",
              "\n",
              "    [theme=dark] .colab-df-convert {\n",
              "      background-color: #3B4455;\n",
              "      fill: #D2E3FC;\n",
              "    }\n",
              "\n",
              "    [theme=dark] .colab-df-convert:hover {\n",
              "      background-color: #434B5C;\n",
              "      box-shadow: 0px 1px 3px 1px rgba(0, 0, 0, 0.15);\n",
              "      filter: drop-shadow(0px 1px 2px rgba(0, 0, 0, 0.3));\n",
              "      fill: #FFFFFF;\n",
              "    }\n",
              "  </style>\n",
              "\n",
              "      <script>\n",
              "        const buttonEl =\n",
              "          document.querySelector('#df-05ff4454-2671-4d00-ba50-72bc9cc890f5 button.colab-df-convert');\n",
              "        buttonEl.style.display =\n",
              "          google.colab.kernel.accessAllowed ? 'block' : 'none';\n",
              "\n",
              "        async function convertToInteractive(key) {\n",
              "          const element = document.querySelector('#df-05ff4454-2671-4d00-ba50-72bc9cc890f5');\n",
              "          const dataTable =\n",
              "            await google.colab.kernel.invokeFunction('convertToInteractive',\n",
              "                                                     [key], {});\n",
              "          if (!dataTable) return;\n",
              "\n",
              "          const docLinkHtml = 'Like what you see? Visit the ' +\n",
              "            '<a target=\"_blank\" href=https://colab.research.google.com/notebooks/data_table.ipynb>data table notebook</a>'\n",
              "            + ' to learn more about interactive tables.';\n",
              "          element.innerHTML = '';\n",
              "          dataTable['output_type'] = 'display_data';\n",
              "          await google.colab.output.renderOutput(dataTable, element);\n",
              "          const docLink = document.createElement('div');\n",
              "          docLink.innerHTML = docLinkHtml;\n",
              "          element.appendChild(docLink);\n",
              "        }\n",
              "      </script>\n",
              "    </div>\n",
              "  </div>\n",
              "  "
            ]
          },
          "metadata": {},
          "execution_count": 17
        }
      ],
      "source": [
        "data = pd.read_csv(\"feature_df.csv\")\n",
        "data.tail()"
      ]
    },
    {
      "cell_type": "markdown",
      "source": [
        "# Select the fraction of data to train the model with"
      ],
      "metadata": {
        "id": "-A9FGh8UY9Qt"
      }
    },
    {
      "cell_type": "code",
      "execution_count": null,
      "metadata": {
        "id": "3euzaecaHv3I"
      },
      "outputs": [],
      "source": [
        "# data2 = pd.read_csv(\"filtered_data.csv\").drop(columns = [\"Condition\"])\n",
        "# data2.head()\n",
        "data = data.sample(frac = 0.5) # 50 % of the data was used to train the model "
      ]
    },
    {
      "cell_type": "markdown",
      "source": [
        "# Separate the data into features and labels"
      ],
      "metadata": {
        "id": "4yZxcQPIZekt"
      }
    },
    {
      "cell_type": "code",
      "execution_count": null,
      "metadata": {
        "id": "BTLBq1OLHv3I"
      },
      "outputs": [],
      "source": [
        "X = data.iloc[:, 1:].values # Features data frame\n",
        "# X2 = data2.iloc[:, :-1].values\n",
        "y = data.iloc[:, 0].values # Label data frame\n",
        "# y2 = data2.iloc[:, -1].values\n",
        "\n",
        "label_encoder = LabelEncoder() # Encode the label in the form of numbers\n",
        "y = label_encoder.fit_transform(y)\n",
        "# y2 = label_encoder.fit_transform(y2)"
      ]
    },
    {
      "cell_type": "markdown",
      "source": [
        "# Separate dat ainto training and testing data\n",
        "20 % of the data was used as testing data "
      ],
      "metadata": {
        "id": "vNdEgAa3Zi4z"
      }
    },
    {
      "cell_type": "code",
      "execution_count": null,
      "metadata": {
        "id": "NkveHbBgHv3J"
      },
      "outputs": [],
      "source": [
        "X_train, X_test, y_train, y_test = train_test_split(X, y, test_size=0.2, random_state=0)\n",
        "# X2_train, X2_test, y2_train, y2_test = train_test_split(X2, y2, test_size=0.5, random_state=0)"
      ]
    },
    {
      "cell_type": "markdown",
      "source": [
        "# Define the model and train the model.\n",
        "(**NOTE:** This will take a considerable amount of time to run)"
      ],
      "metadata": {
        "id": "WfKDZ6kcZu0e"
      }
    },
    {
      "cell_type": "code",
      "execution_count": null,
      "metadata": {
        "colab": {
          "base_uri": "https://localhost:8080/"
        },
        "id": "z9t-ujNuHv3M",
        "outputId": "580af16f-04b5-4eb5-cfbd-da5f44e0e35b"
      },
      "outputs": [
        {
          "output_type": "execute_result",
          "data": {
            "text/plain": [
              "AutoSklearnClassifier(ensemble_class=<class 'autosklearn.ensembles.ensemble_selection.EnsembleSelection'>,\n",
              "                      per_run_time_limit=200, time_left_for_this_task=1800)"
            ]
          },
          "metadata": {},
          "execution_count": 21
        }
      ],
      "source": [
        "automlClassifier = Classifier.AutoSklearnClassifier(time_left_for_this_task=1800, \n",
        "                                                    per_run_time_limit = 200)\n",
        "automlClassifier.fit(X_train, y_train)"
      ]
    },
    {
      "cell_type": "markdown",
      "source": [
        "# Make predictions and see acuracy"
      ],
      "metadata": {
        "id": "NVqErlDEZ0IW"
      }
    },
    {
      "cell_type": "code",
      "source": [
        "y_pred = automlClassifier.predict(X_test)\n",
        "\n",
        "score = accuracy_score(y_true=y_test, y_pred=y_pred)\n",
        "print(f\"Final accuracy of the model is {score}\")"
      ],
      "metadata": {
        "id": "euptkgIDTmxy",
        "colab": {
          "base_uri": "https://localhost:8080/"
        },
        "outputId": "73ceddb4-9b58-4deb-b78c-756a8858cdad"
      },
      "execution_count": null,
      "outputs": [
        {
          "output_type": "stream",
          "name": "stdout",
          "text": [
            "Final accuracy of the model is 0.9679077204202833\n"
          ]
        }
      ]
    },
    {
      "cell_type": "markdown",
      "source": [
        "# See the models used "
      ],
      "metadata": {
        "id": "iNCO46B9Z9pl"
      }
    },
    {
      "cell_type": "code",
      "source": [
        "automlClassifier.show_models()"
      ],
      "metadata": {
        "colab": {
          "base_uri": "https://localhost:8080/"
        },
        "id": "3jTgZM30nFeD",
        "outputId": "a7479f22-1c5a-4b3f-82c6-7de9aeb4c3e6"
      },
      "execution_count": null,
      "outputs": [
        {
          "output_type": "execute_result",
          "data": {
            "text/plain": [
              "{2: {'model_id': 2,\n",
              "  'rank': 1,\n",
              "  'cost': 0.041360214588561095,\n",
              "  'ensemble_weight': 0.02,\n",
              "  'data_preprocessor': <autosklearn.pipeline.components.data_preprocessing.DataPreprocessorChoice at 0x7f6d20035880>,\n",
              "  'balancing': Balancing(random_state=1),\n",
              "  'feature_preprocessor': <autosklearn.pipeline.components.feature_preprocessing.FeaturePreprocessorChoice at 0x7f6d20035af0>,\n",
              "  'classifier': <autosklearn.pipeline.components.classification.ClassifierChoice at 0x7f6d216ad610>,\n",
              "  'sklearn_classifier': RandomForestClassifier(max_features=5, n_estimators=512, n_jobs=1,\n",
              "                         random_state=1, warm_start=True)},\n",
              " 4: {'model_id': 4,\n",
              "  'rank': 2,\n",
              "  'cost': 0.17824694990049317,\n",
              "  'ensemble_weight': 0.04,\n",
              "  'data_preprocessor': <autosklearn.pipeline.components.data_preprocessing.DataPreprocessorChoice at 0x7f6d1ffd0100>,\n",
              "  'balancing': Balancing(random_state=1, strategy='weighting'),\n",
              "  'feature_preprocessor': <autosklearn.pipeline.components.feature_preprocessing.FeaturePreprocessorChoice at 0x7f6d20038460>,\n",
              "  'classifier': <autosklearn.pipeline.components.classification.ClassifierChoice at 0x7f6d20038100>,\n",
              "  'sklearn_classifier': LinearDiscriminantAnalysis(shrinkage=0.3306135150299744, solver='lsqr',\n",
              "                             tol=0.0007215763283486354)},\n",
              " 5: {'model_id': 5,\n",
              "  'rank': 3,\n",
              "  'cost': 0.041879380462057636,\n",
              "  'ensemble_weight': 0.14,\n",
              "  'data_preprocessor': <autosklearn.pipeline.components.data_preprocessing.DataPreprocessorChoice at 0x7f6d20069c70>,\n",
              "  'balancing': Balancing(random_state=1),\n",
              "  'feature_preprocessor': <autosklearn.pipeline.components.feature_preprocessing.FeaturePreprocessorChoice at 0x7f6d1ff72ee0>,\n",
              "  'classifier': <autosklearn.pipeline.components.classification.ClassifierChoice at 0x7f6d1ff72fa0>,\n",
              "  'sklearn_classifier': MLPClassifier(activation='tanh', alpha=0.00012344934870642978, beta_1=0.999,\n",
              "                beta_2=0.9, hidden_layer_sizes=(32,),\n",
              "                learning_rate_init=0.0010302058554176633, max_iter=256,\n",
              "                n_iter_no_change=32, random_state=1, validation_fraction=0.0,\n",
              "                verbose=0, warm_start=True)},\n",
              " 7: {'model_id': 7,\n",
              "  'rank': 4,\n",
              "  'cost': 0.1463182486804534,\n",
              "  'ensemble_weight': 0.06,\n",
              "  'data_preprocessor': <autosklearn.pipeline.components.data_preprocessing.DataPreprocessorChoice at 0x7f6d1f732280>,\n",
              "  'balancing': Balancing(random_state=1),\n",
              "  'feature_preprocessor': <autosklearn.pipeline.components.feature_preprocessing.FeaturePreprocessorChoice at 0x7f6d201958e0>,\n",
              "  'classifier': <autosklearn.pipeline.components.classification.ClassifierChoice at 0x7f6d201953d0>,\n",
              "  'sklearn_classifier': AdaBoostClassifier(base_estimator=DecisionTreeClassifier(max_depth=1),\n",
              "                     learning_rate=0.10000000000000002, n_estimators=77,\n",
              "                     random_state=1)},\n",
              " 9: {'model_id': 9,\n",
              "  'rank': 5,\n",
              "  'cost': 0.037726053474084975,\n",
              "  'ensemble_weight': 0.2,\n",
              "  'data_preprocessor': <autosklearn.pipeline.components.data_preprocessing.DataPreprocessorChoice at 0x7f6d1f732d90>,\n",
              "  'balancing': Balancing(random_state=1),\n",
              "  'feature_preprocessor': <autosklearn.pipeline.components.feature_preprocessing.FeaturePreprocessorChoice at 0x7f6d1ffcb1f0>,\n",
              "  'classifier': <autosklearn.pipeline.components.classification.ClassifierChoice at 0x7f6d1ffcb730>,\n",
              "  'sklearn_classifier': HistGradientBoostingClassifier(early_stopping=True,\n",
              "                                 l2_regularization=1.3153561911035717e-10,\n",
              "                                 learning_rate=0.025345400213312417, max_iter=512,\n",
              "                                 max_leaf_nodes=16, min_samples_leaf=27,\n",
              "                                 n_iter_no_change=5, random_state=1,\n",
              "                                 validation_fraction=0.2361478213622299,\n",
              "                                 warm_start=True)},\n",
              " 10: {'model_id': 10,\n",
              "  'rank': 6,\n",
              "  'cost': 0.145020333996712,\n",
              "  'ensemble_weight': 0.28,\n",
              "  'data_preprocessor': <autosklearn.pipeline.components.data_preprocessing.DataPreprocessorChoice at 0x7f6d1ffcc160>,\n",
              "  'balancing': Balancing(random_state=1),\n",
              "  'feature_preprocessor': <autosklearn.pipeline.components.feature_preprocessing.FeaturePreprocessorChoice at 0x7f6d1d6a6370>,\n",
              "  'classifier': <autosklearn.pipeline.components.classification.ClassifierChoice at 0x7f6d1d6a6460>,\n",
              "  'sklearn_classifier': AdaBoostClassifier(base_estimator=DecisionTreeClassifier(max_depth=1),\n",
              "                     learning_rate=0.03743735372990651, n_estimators=475,\n",
              "                     random_state=1)},\n",
              " 15: {'model_id': 15,\n",
              "  'rank': 7,\n",
              "  'cost': 0.038591329929912654,\n",
              "  'ensemble_weight': 0.08,\n",
              "  'data_preprocessor': <autosklearn.pipeline.components.data_preprocessing.DataPreprocessorChoice at 0x7f6d2003d580>,\n",
              "  'balancing': Balancing(random_state=1),\n",
              "  'feature_preprocessor': <autosklearn.pipeline.components.feature_preprocessing.FeaturePreprocessorChoice at 0x7f6d1d8d3f10>,\n",
              "  'classifier': <autosklearn.pipeline.components.classification.ClassifierChoice at 0x7f6d1d946190>,\n",
              "  'sklearn_classifier': HistGradientBoostingClassifier(early_stopping=True,\n",
              "                                 l2_regularization=9.674948183980905e-09,\n",
              "                                 learning_rate=0.014247987845444413, max_iter=512,\n",
              "                                 max_leaf_nodes=55, min_samples_leaf=164,\n",
              "                                 n_iter_no_change=1, random_state=1,\n",
              "                                 validation_fraction=0.11770489601182355,\n",
              "                                 warm_start=True)},\n",
              " 16: {'model_id': 16,\n",
              "  'rank': 8,\n",
              "  'cost': 0.04880159210867874,\n",
              "  'ensemble_weight': 0.02,\n",
              "  'data_preprocessor': <autosklearn.pipeline.components.data_preprocessing.DataPreprocessorChoice at 0x7f6d1d718370>,\n",
              "  'balancing': Balancing(random_state=1),\n",
              "  'feature_preprocessor': <autosklearn.pipeline.components.feature_preprocessing.FeaturePreprocessorChoice at 0x7f6d1d706430>,\n",
              "  'classifier': <autosklearn.pipeline.components.classification.ClassifierChoice at 0x7f6d1d706160>,\n",
              "  'sklearn_classifier': RandomForestClassifier(max_features=1, min_samples_split=3, n_estimators=512,\n",
              "                         n_jobs=1, random_state=1, warm_start=True)},\n",
              " 17: {'model_id': 17,\n",
              "  'rank': 9,\n",
              "  'cost': 0.04473479276628878,\n",
              "  'ensemble_weight': 0.02,\n",
              "  'data_preprocessor': <autosklearn.pipeline.components.data_preprocessing.DataPreprocessorChoice at 0x7f6d1d10dbb0>,\n",
              "  'balancing': Balancing(random_state=1),\n",
              "  'feature_preprocessor': <autosklearn.pipeline.components.feature_preprocessing.FeaturePreprocessorChoice at 0x7f6d1d8c6310>,\n",
              "  'classifier': <autosklearn.pipeline.components.classification.ClassifierChoice at 0x7f6d1d8b4550>,\n",
              "  'sklearn_classifier': RandomForestClassifier(criterion='entropy', max_features=3, min_samples_split=5,\n",
              "                         n_estimators=512, n_jobs=1, random_state=1,\n",
              "                         warm_start=True)},\n",
              " 19: {'model_id': 19,\n",
              "  'rank': 10,\n",
              "  'cost': 0.05901185428744482,\n",
              "  'ensemble_weight': 0.08,\n",
              "  'data_preprocessor': <autosklearn.pipeline.components.data_preprocessing.DataPreprocessorChoice at 0x7f6d1d616cd0>,\n",
              "  'balancing': Balancing(random_state=1, strategy='weighting'),\n",
              "  'feature_preprocessor': <autosklearn.pipeline.components.feature_preprocessing.FeaturePreprocessorChoice at 0x7f6d1cf51dc0>,\n",
              "  'classifier': <autosklearn.pipeline.components.classification.ClassifierChoice at 0x7f6d1cf5bb80>,\n",
              "  'sklearn_classifier': HistGradientBoostingClassifier(early_stopping=True,\n",
              "                                 l2_regularization=5.027708640006448e-08,\n",
              "                                 learning_rate=0.09750328007832798, max_iter=32,\n",
              "                                 max_leaf_nodes=1234, min_samples_leaf=25,\n",
              "                                 n_iter_no_change=1, random_state=1,\n",
              "                                 validation_fraction=0.08300813783286698,\n",
              "                                 warm_start=True)},\n",
              " 20: {'model_id': 20,\n",
              "  'rank': 11,\n",
              "  'cost': 0.03919702344899201,\n",
              "  'ensemble_weight': 0.04,\n",
              "  'data_preprocessor': <autosklearn.pipeline.components.data_preprocessing.DataPreprocessorChoice at 0x7f6d1d789430>,\n",
              "  'balancing': Balancing(random_state=1),\n",
              "  'feature_preprocessor': <autosklearn.pipeline.components.feature_preprocessing.FeaturePreprocessorChoice at 0x7f6d1cd16970>,\n",
              "  'classifier': <autosklearn.pipeline.components.classification.ClassifierChoice at 0x7f6d1cd16c40>,\n",
              "  'sklearn_classifier': ExtraTreesClassifier(bootstrap=True, max_features=217, min_samples_leaf=2,\n",
              "                       min_samples_split=9, n_estimators=512, n_jobs=1,\n",
              "                       random_state=1, warm_start=True)},\n",
              " 22: {'model_id': 22,\n",
              "  'rank': 12,\n",
              "  'cost': 0.04421562689279224,\n",
              "  'ensemble_weight': 0.02,\n",
              "  'data_preprocessor': <autosklearn.pipeline.components.data_preprocessing.DataPreprocessorChoice at 0x7f6d1d925670>,\n",
              "  'balancing': Balancing(random_state=1),\n",
              "  'feature_preprocessor': <autosklearn.pipeline.components.feature_preprocessing.FeaturePreprocessorChoice at 0x7f6d1cc14bb0>,\n",
              "  'classifier': <autosklearn.pipeline.components.classification.ClassifierChoice at 0x7f6d1cc14df0>,\n",
              "  'sklearn_classifier': RandomForestClassifier(criterion='entropy', max_features=5, min_samples_split=5,\n",
              "                         n_estimators=512, n_jobs=1, random_state=1,\n",
              "                         warm_start=True)}}"
            ]
          },
          "metadata": {},
          "execution_count": 23
        }
      ]
    },
    {
      "cell_type": "markdown",
      "source": [
        "# Print model statistics"
      ],
      "metadata": {
        "id": "S3qyHbCPaDJo"
      }
    },
    {
      "cell_type": "code",
      "source": [
        "print(automlClassifier.sprint_statistics())"
      ],
      "metadata": {
        "colab": {
          "base_uri": "https://localhost:8080/"
        },
        "id": "4NnCEahynQuL",
        "outputId": "7b8b74b6-6467-4fc7-db79-074ca2d610e5"
      },
      "execution_count": null,
      "outputs": [
        {
          "output_type": "stream",
          "name": "stdout",
          "text": [
            "auto-sklearn results:\n",
            "  Dataset name: 82b2c6c6-d19d-11ed-82e3-0242ac1c000c\n",
            "  Metric: accuracy\n",
            "  Best validation score: 0.962274\n",
            "  Number of target algorithm runs: 26\n",
            "  Number of successful target algorithm runs: 22\n",
            "  Number of crashed target algorithm runs: 0\n",
            "  Number of target algorithms that exceeded the time limit: 4\n",
            "  Number of target algorithms that exceeded the memory limit: 0\n",
            "\n"
          ]
        }
      ]
    },
    {
      "cell_type": "markdown",
      "source": [
        "# Print model leaderboard"
      ],
      "metadata": {
        "id": "uLpQ6NhQaIAM"
      }
    },
    {
      "cell_type": "code",
      "source": [
        "automlClassifier.leaderboard()"
      ],
      "metadata": {
        "colab": {
          "base_uri": "https://localhost:8080/",
          "height": 452
        },
        "id": "x9K9Xy7ou66l",
        "outputId": "dbfed4d6-5b34-4075-fe13-7f93f9825356"
      },
      "execution_count": null,
      "outputs": [
        {
          "output_type": "execute_result",
          "data": {
            "text/plain": [
              "          rank  ensemble_weight               type      cost    duration\n",
              "model_id                                                                \n",
              "9            1             0.20  gradient_boosting  0.037726   24.624764\n",
              "15           2             0.08  gradient_boosting  0.038591   34.561401\n",
              "20           3             0.04        extra_trees  0.039197  183.308672\n",
              "2            4             0.02      random_forest  0.041360   63.364051\n",
              "5            5             0.14                mlp  0.041879   36.085438\n",
              "22           6             0.02      random_forest  0.044216  101.848626\n",
              "17           7             0.02      random_forest  0.044735   46.572901\n",
              "16           8             0.02      random_forest  0.048802   22.647004\n",
              "19           9             0.08  gradient_boosting  0.059012   10.104957\n",
              "10          10             0.28           adaboost  0.145020   15.431324\n",
              "7           11             0.06           adaboost  0.146318    7.751738\n",
              "4           12             0.04                lda  0.178247   26.980932"
            ],
            "text/html": [
              "\n",
              "  <div id=\"df-92e3cdbb-d443-4f41-8dee-feb9dbf15acb\">\n",
              "    <div class=\"colab-df-container\">\n",
              "      <div>\n",
              "<style scoped>\n",
              "    .dataframe tbody tr th:only-of-type {\n",
              "        vertical-align: middle;\n",
              "    }\n",
              "\n",
              "    .dataframe tbody tr th {\n",
              "        vertical-align: top;\n",
              "    }\n",
              "\n",
              "    .dataframe thead th {\n",
              "        text-align: right;\n",
              "    }\n",
              "</style>\n",
              "<table border=\"1\" class=\"dataframe\">\n",
              "  <thead>\n",
              "    <tr style=\"text-align: right;\">\n",
              "      <th></th>\n",
              "      <th>rank</th>\n",
              "      <th>ensemble_weight</th>\n",
              "      <th>type</th>\n",
              "      <th>cost</th>\n",
              "      <th>duration</th>\n",
              "    </tr>\n",
              "    <tr>\n",
              "      <th>model_id</th>\n",
              "      <th></th>\n",
              "      <th></th>\n",
              "      <th></th>\n",
              "      <th></th>\n",
              "      <th></th>\n",
              "    </tr>\n",
              "  </thead>\n",
              "  <tbody>\n",
              "    <tr>\n",
              "      <th>9</th>\n",
              "      <td>1</td>\n",
              "      <td>0.20</td>\n",
              "      <td>gradient_boosting</td>\n",
              "      <td>0.037726</td>\n",
              "      <td>24.624764</td>\n",
              "    </tr>\n",
              "    <tr>\n",
              "      <th>15</th>\n",
              "      <td>2</td>\n",
              "      <td>0.08</td>\n",
              "      <td>gradient_boosting</td>\n",
              "      <td>0.038591</td>\n",
              "      <td>34.561401</td>\n",
              "    </tr>\n",
              "    <tr>\n",
              "      <th>20</th>\n",
              "      <td>3</td>\n",
              "      <td>0.04</td>\n",
              "      <td>extra_trees</td>\n",
              "      <td>0.039197</td>\n",
              "      <td>183.308672</td>\n",
              "    </tr>\n",
              "    <tr>\n",
              "      <th>2</th>\n",
              "      <td>4</td>\n",
              "      <td>0.02</td>\n",
              "      <td>random_forest</td>\n",
              "      <td>0.041360</td>\n",
              "      <td>63.364051</td>\n",
              "    </tr>\n",
              "    <tr>\n",
              "      <th>5</th>\n",
              "      <td>5</td>\n",
              "      <td>0.14</td>\n",
              "      <td>mlp</td>\n",
              "      <td>0.041879</td>\n",
              "      <td>36.085438</td>\n",
              "    </tr>\n",
              "    <tr>\n",
              "      <th>22</th>\n",
              "      <td>6</td>\n",
              "      <td>0.02</td>\n",
              "      <td>random_forest</td>\n",
              "      <td>0.044216</td>\n",
              "      <td>101.848626</td>\n",
              "    </tr>\n",
              "    <tr>\n",
              "      <th>17</th>\n",
              "      <td>7</td>\n",
              "      <td>0.02</td>\n",
              "      <td>random_forest</td>\n",
              "      <td>0.044735</td>\n",
              "      <td>46.572901</td>\n",
              "    </tr>\n",
              "    <tr>\n",
              "      <th>16</th>\n",
              "      <td>8</td>\n",
              "      <td>0.02</td>\n",
              "      <td>random_forest</td>\n",
              "      <td>0.048802</td>\n",
              "      <td>22.647004</td>\n",
              "    </tr>\n",
              "    <tr>\n",
              "      <th>19</th>\n",
              "      <td>9</td>\n",
              "      <td>0.08</td>\n",
              "      <td>gradient_boosting</td>\n",
              "      <td>0.059012</td>\n",
              "      <td>10.104957</td>\n",
              "    </tr>\n",
              "    <tr>\n",
              "      <th>10</th>\n",
              "      <td>10</td>\n",
              "      <td>0.28</td>\n",
              "      <td>adaboost</td>\n",
              "      <td>0.145020</td>\n",
              "      <td>15.431324</td>\n",
              "    </tr>\n",
              "    <tr>\n",
              "      <th>7</th>\n",
              "      <td>11</td>\n",
              "      <td>0.06</td>\n",
              "      <td>adaboost</td>\n",
              "      <td>0.146318</td>\n",
              "      <td>7.751738</td>\n",
              "    </tr>\n",
              "    <tr>\n",
              "      <th>4</th>\n",
              "      <td>12</td>\n",
              "      <td>0.04</td>\n",
              "      <td>lda</td>\n",
              "      <td>0.178247</td>\n",
              "      <td>26.980932</td>\n",
              "    </tr>\n",
              "  </tbody>\n",
              "</table>\n",
              "</div>\n",
              "      <button class=\"colab-df-convert\" onclick=\"convertToInteractive('df-92e3cdbb-d443-4f41-8dee-feb9dbf15acb')\"\n",
              "              title=\"Convert this dataframe to an interactive table.\"\n",
              "              style=\"display:none;\">\n",
              "        \n",
              "  <svg xmlns=\"http://www.w3.org/2000/svg\" height=\"24px\"viewBox=\"0 0 24 24\"\n",
              "       width=\"24px\">\n",
              "    <path d=\"M0 0h24v24H0V0z\" fill=\"none\"/>\n",
              "    <path d=\"M18.56 5.44l.94 2.06.94-2.06 2.06-.94-2.06-.94-.94-2.06-.94 2.06-2.06.94zm-11 1L8.5 8.5l.94-2.06 2.06-.94-2.06-.94L8.5 2.5l-.94 2.06-2.06.94zm10 10l.94 2.06.94-2.06 2.06-.94-2.06-.94-.94-2.06-.94 2.06-2.06.94z\"/><path d=\"M17.41 7.96l-1.37-1.37c-.4-.4-.92-.59-1.43-.59-.52 0-1.04.2-1.43.59L10.3 9.45l-7.72 7.72c-.78.78-.78 2.05 0 2.83L4 21.41c.39.39.9.59 1.41.59.51 0 1.02-.2 1.41-.59l7.78-7.78 2.81-2.81c.8-.78.8-2.07 0-2.86zM5.41 20L4 18.59l7.72-7.72 1.47 1.35L5.41 20z\"/>\n",
              "  </svg>\n",
              "      </button>\n",
              "      \n",
              "  <style>\n",
              "    .colab-df-container {\n",
              "      display:flex;\n",
              "      flex-wrap:wrap;\n",
              "      gap: 12px;\n",
              "    }\n",
              "\n",
              "    .colab-df-convert {\n",
              "      background-color: #E8F0FE;\n",
              "      border: none;\n",
              "      border-radius: 50%;\n",
              "      cursor: pointer;\n",
              "      display: none;\n",
              "      fill: #1967D2;\n",
              "      height: 32px;\n",
              "      padding: 0 0 0 0;\n",
              "      width: 32px;\n",
              "    }\n",
              "\n",
              "    .colab-df-convert:hover {\n",
              "      background-color: #E2EBFA;\n",
              "      box-shadow: 0px 1px 2px rgba(60, 64, 67, 0.3), 0px 1px 3px 1px rgba(60, 64, 67, 0.15);\n",
              "      fill: #174EA6;\n",
              "    }\n",
              "\n",
              "    [theme=dark] .colab-df-convert {\n",
              "      background-color: #3B4455;\n",
              "      fill: #D2E3FC;\n",
              "    }\n",
              "\n",
              "    [theme=dark] .colab-df-convert:hover {\n",
              "      background-color: #434B5C;\n",
              "      box-shadow: 0px 1px 3px 1px rgba(0, 0, 0, 0.15);\n",
              "      filter: drop-shadow(0px 1px 2px rgba(0, 0, 0, 0.3));\n",
              "      fill: #FFFFFF;\n",
              "    }\n",
              "  </style>\n",
              "\n",
              "      <script>\n",
              "        const buttonEl =\n",
              "          document.querySelector('#df-92e3cdbb-d443-4f41-8dee-feb9dbf15acb button.colab-df-convert');\n",
              "        buttonEl.style.display =\n",
              "          google.colab.kernel.accessAllowed ? 'block' : 'none';\n",
              "\n",
              "        async function convertToInteractive(key) {\n",
              "          const element = document.querySelector('#df-92e3cdbb-d443-4f41-8dee-feb9dbf15acb');\n",
              "          const dataTable =\n",
              "            await google.colab.kernel.invokeFunction('convertToInteractive',\n",
              "                                                     [key], {});\n",
              "          if (!dataTable) return;\n",
              "\n",
              "          const docLinkHtml = 'Like what you see? Visit the ' +\n",
              "            '<a target=\"_blank\" href=https://colab.research.google.com/notebooks/data_table.ipynb>data table notebook</a>'\n",
              "            + ' to learn more about interactive tables.';\n",
              "          element.innerHTML = '';\n",
              "          dataTable['output_type'] = 'display_data';\n",
              "          await google.colab.output.renderOutput(dataTable, element);\n",
              "          const docLink = document.createElement('div');\n",
              "          docLink.innerHTML = docLinkHtml;\n",
              "          element.appendChild(docLink);\n",
              "        }\n",
              "      </script>\n",
              "    </div>\n",
              "  </div>\n",
              "  "
            ]
          },
          "metadata": {},
          "execution_count": 25
        }
      ]
    },
    {
      "cell_type": "markdown",
      "source": [
        "# Confusion Matrix\n"
      ],
      "metadata": {
        "id": "yHUiQBQQcLw5"
      }
    },
    {
      "cell_type": "code",
      "source": [
        "from sklearn.metrics import confusion_matrix\n",
        "\n",
        "plt.figure(figsize = (6, 6))\n",
        "conf_matrix = confusion_matrix(y_test, y_pred)\n",
        "sns.heatmap(conf_matrix, annot = True, linewidth = 0.5, square = True, cbar = False)\n",
        "plt.title(f\"Confusion Matrix\")\n",
        "plt.ylabel(\"Actual Label\")\n",
        "plt.xlabel(\"Predicted Label\")\n",
        "plt.savefig(\"Confusion_matrix.png\")"
      ],
      "metadata": {
        "colab": {
          "base_uri": "https://localhost:8080/",
          "height": 564
        },
        "id": "c_TuyJaLcPT4",
        "outputId": "15b7f7be-5adc-4f86-c03c-32decae57e09"
      },
      "execution_count": null,
      "outputs": [
        {
          "output_type": "display_data",
          "data": {
            "text/plain": [
              "<Figure size 600x600 with 1 Axes>"
            ],
            "image/png": "[encoded data removed]"
          },
          "metadata": {}
        }
      ]
    },
    {
      "cell_type": "markdown",
      "source": [
        "# Get accuracy, recall, f1, precision\n",
        "\n",
        "1. Precision\n",
        "$$\n",
        "\\frac{\\text{True positive}}{\\text{True Positive + False positive}}\n",
        "$$\n",
        "\n",
        "\n",
        "2. Recall\n",
        "\n",
        "\n",
        "$$\n",
        "\\frac{\\text{True positive}}{\\text{True Positive + False negative}}\n",
        "$$\n",
        "\n"
      ],
      "metadata": {
        "id": "m0n36dMUjuKW"
      }
    },
    {
      "cell_type": "code",
      "source": [
        "def create_dataframe(keys, vals):\n",
        "  results = {key: val for key, val in zip(keys, vals)}\n",
        "\n",
        "  return pd.DataFrame(results, index = [0])\n",
        "\n",
        "\n",
        "def get_precision(conf_matrix: np.ndarray) -> pd.DataFrame:\n",
        "  final_result = []\n",
        "  true_positives = conf_matrix.diagonal()\n",
        "  keys = [\"True positive\", \"False positive\", \"False Negative\", \"Precision\", \"Recall\"]\n",
        "\n",
        "  for col_idx, true_pos in enumerate(true_positives):\n",
        "    column_vals = conf_matrix[:, col_idx]\n",
        "    row_vals = conf_matrix[col_idx, :]\n",
        "    false_positives = np.delete(column_vals, np.where(column_vals == true_pos))\n",
        "    false_negatives = np.delete(row_vals, np.where(row_vals == true_pos))\n",
        "    precision = true_pos / np.sum(column_vals)\n",
        "    recall = true_pos / np.sum(row_vals)\n",
        "    f1_score = 2 * (precision * recall) / (precision + recall)\n",
        "    vals = [true_pos, np.sum(false_positives), np.sum(false_negatives),\n",
        "            precision, recall]\n",
        "    result = create_dataframe(keys, vals)\n",
        "    final_result.append(result)\n",
        "\n",
        "  results_df = pd.concat(final_result, axis = 0)\n",
        "  results_df.index = [0, 1, 2, 3, 4]\n",
        "  return results_df\n"
      ],
      "metadata": {
        "id": "uGCtQa5VlYnd"
      },
      "execution_count": null,
      "outputs": []
    },
    {
      "cell_type": "code",
      "source": [
        "get_precision(conf_matrix)"
      ],
      "metadata": {
        "colab": {
          "base_uri": "https://localhost:8080/",
          "height": 383
        },
        "id": "3HUmaAofodUo",
        "outputId": "12a780ac-61a8-4d07-e8d7-cadf80349740"
      },
      "execution_count": null,
      "outputs": [
        {
          "output_type": "execute_result",
          "data": {
            "text/plain": [
              "   True positive  False positive  False Negative  Precision    Recall\n",
              "0             33               5              26   0.868421  0.559322\n",
              "1           7193             227              31   0.969407  0.995709\n",
              "2            642              11              58   0.983155  0.917143\n",
              "3            117               3              76   0.975000  0.606218\n",
              "4            490              35              90   0.933333  0.844828"
            ],
            "text/html": [
              "\n",
              "  <div id=\"df-3ef824e2-dc58-4757-85d6-1f7bb536fa59\">\n",
              "    <div class=\"colab-df-container\">\n",
              "      <div>\n",
              "<style scoped>\n",
              "    .dataframe tbody tr th:only-of-type {\n",
              "        vertical-align: middle;\n",
              "    }\n",
              "\n",
              "    .dataframe tbody tr th {\n",
              "        vertical-align: top;\n",
              "    }\n",
              "\n",
              "    .dataframe thead th {\n",
              "        text-align: right;\n",
              "    }\n",
              "</style>\n",
              "<table border=\"1\" class=\"dataframe\">\n",
              "  <thead>\n",
              "    <tr style=\"text-align: right;\">\n",
              "      <th></th>\n",
              "      <th>True positive</th>\n",
              "      <th>False positive</th>\n",
              "      <th>False Negative</th>\n",
              "      <th>Precision</th>\n",
              "      <th>Recall</th>\n",
              "    </tr>\n",
              "  </thead>\n",
              "  <tbody>\n",
              "    <tr>\n",
              "      <th>0</th>\n",
              "      <td>33</td>\n",
              "      <td>5</td>\n",
              "      <td>26</td>\n",
              "      <td>0.868421</td>\n",
              "      <td>0.559322</td>\n",
              "    </tr>\n",
              "    <tr>\n",
              "      <th>1</th>\n",
              "      <td>7193</td>\n",
              "      <td>227</td>\n",
              "      <td>31</td>\n",
              "      <td>0.969407</td>\n",
              "      <td>0.995709</td>\n",
              "    </tr>\n",
              "    <tr>\n",
              "      <th>2</th>\n",
              "      <td>642</td>\n",
              "      <td>11</td>\n",
              "      <td>58</td>\n",
              "      <td>0.983155</td>\n",
              "      <td>0.917143</td>\n",
              "    </tr>\n",
              "    <tr>\n",
              "      <th>3</th>\n",
              "      <td>117</td>\n",
              "      <td>3</td>\n",
              "      <td>76</td>\n",
              "      <td>0.975000</td>\n",
              "      <td>0.606218</td>\n",
              "    </tr>\n",
              "    <tr>\n",
              "      <th>4</th>\n",
              "      <td>490</td>\n",
              "      <td>35</td>\n",
              "      <td>90</td>\n",
              "      <td>0.933333</td>\n",
              "      <td>0.844828</td>\n",
              "    </tr>\n",
              "  </tbody>\n",
              "</table>\n",
              "</div>\n",
              "      <button class=\"colab-df-convert\" onclick=\"convertToInteractive('df-3ef824e2-dc58-4757-85d6-1f7bb536fa59')\"\n",
              "              title=\"Convert this dataframe to an interactive table.\"\n",
              "              style=\"display:none;\">\n",
              "        \n",
              "  <svg xmlns=\"http://www.w3.org/2000/svg\" height=\"24px\"viewBox=\"0 0 24 24\"\n",
              "       width=\"24px\">\n",
              "    <path d=\"M0 0h24v24H0V0z\" fill=\"none\"/>\n",
              "    <path d=\"M18.56 5.44l.94 2.06.94-2.06 2.06-.94-2.06-.94-.94-2.06-.94 2.06-2.06.94zm-11 1L8.5 8.5l.94-2.06 2.06-.94-2.06-.94L8.5 2.5l-.94 2.06-2.06.94zm10 10l.94 2.06.94-2.06 2.06-.94-2.06-.94-.94-2.06-.94 2.06-2.06.94z\"/><path d=\"M17.41 7.96l-1.37-1.37c-.4-.4-.92-.59-1.43-.59-.52 0-1.04.2-1.43.59L10.3 9.45l-7.72 7.72c-.78.78-.78 2.05 0 2.83L4 21.41c.39.39.9.59 1.41.59.51 0 1.02-.2 1.41-.59l7.78-7.78 2.81-2.81c.8-.78.8-2.07 0-2.86zM5.41 20L4 18.59l7.72-7.72 1.47 1.35L5.41 20z\"/>\n",
              "  </svg>\n",
              "      </button>\n",
              "      \n",
              "  <style>\n",
              "    .colab-df-container {\n",
              "      display:flex;\n",
              "      flex-wrap:wrap;\n",
              "      gap: 12px;\n",
              "    }\n",
              "\n",
              "    .colab-df-convert {\n",
              "      background-color: #E8F0FE;\n",
              "      border: none;\n",
              "      border-radius: 50%;\n",
              "      cursor: pointer;\n",
              "      display: none;\n",
              "      fill: #1967D2;\n",
              "      height: 32px;\n",
              "      padding: 0 0 0 0;\n",
              "      width: 32px;\n",
              "    }\n",
              "\n",
              "    .colab-df-convert:hover {\n",
              "      background-color: #E2EBFA;\n",
              "      box-shadow: 0px 1px 2px rgba(60, 64, 67, 0.3), 0px 1px 3px 1px rgba(60, 64, 67, 0.15);\n",
              "      fill: #174EA6;\n",
              "    }\n",
              "\n",
              "    [theme=dark] .colab-df-convert {\n",
              "      background-color: #3B4455;\n",
              "      fill: #D2E3FC;\n",
              "    }\n",
              "\n",
              "    [theme=dark] .colab-df-convert:hover {\n",
              "      background-color: #434B5C;\n",
              "      box-shadow: 0px 1px 3px 1px rgba(0, 0, 0, 0.15);\n",
              "      filter: drop-shadow(0px 1px 2px rgba(0, 0, 0, 0.3));\n",
              "      fill: #FFFFFF;\n",
              "    }\n",
              "  </style>\n",
              "\n",
              "      <script>\n",
              "        const buttonEl =\n",
              "          document.querySelector('#df-3ef824e2-dc58-4757-85d6-1f7bb536fa59 button.colab-df-convert');\n",
              "        buttonEl.style.display =\n",
              "          google.colab.kernel.accessAllowed ? 'block' : 'none';\n",
              "\n",
              "        async function convertToInteractive(key) {\n",
              "          const element = document.querySelector('#df-3ef824e2-dc58-4757-85d6-1f7bb536fa59');\n",
              "          const dataTable =\n",
              "            await google.colab.kernel.invokeFunction('convertToInteractive',\n",
              "                                                     [key], {});\n",
              "          if (!dataTable) return;\n",
              "\n",
              "          const docLinkHtml = 'Like what you see? Visit the ' +\n",
              "            '<a target=\"_blank\" href=https://colab.research.google.com/notebooks/data_table.ipynb>data table notebook</a>'\n",
              "            + ' to learn more about interactive tables.';\n",
              "          element.innerHTML = '';\n",
              "          dataTable['output_type'] = 'display_data';\n",
              "          await google.colab.output.renderOutput(dataTable, element);\n",
              "          const docLink = document.createElement('div');\n",
              "          docLink.innerHTML = docLinkHtml;\n",
              "          element.appendChild(docLink);\n",
              "        }\n",
              "      </script>\n",
              "    </div>\n",
              "  </div>\n",
              "  "
            ]
          },
          "metadata": {},
          "execution_count": 38
        }
      ]
    },
    {
      "cell_type": "markdown",
      "source": [
        "# Save the model and load the model in `pickle` format"
      ],
      "metadata": {
        "id": "mYss93G8aX0r"
      }
    },
    {
      "cell_type": "code",
      "source": [
        "import pickle\n",
        "\n",
        "# Save the model\n",
        "with open(\"model.pkl\", \"wb\") as file:\n",
        "  pickle.dump(automlClassifier, file)\n",
        "\n",
        "# Load the model\n",
        "with open(\"model.pkl\", \"rb\") as file:\n",
        "  classifier = pickle.load(file)\n",
        "\n",
        "# Make predictions and check accuracy\n",
        "y_pred = classifier.predict(X_test)\n",
        "accuracy = accuracy_score(y_true=y_test, y_pred = y_pred)\n",
        "print(f\"Accuracy score = {accuracy}\")"
      ],
      "metadata": {
        "id": "9r8ntwHvvYUx",
        "colab": {
          "base_uri": "https://localhost:8080/"
        },
        "outputId": "cd45a346-36a2-478d-b4a5-b499b108f531"
      },
      "execution_count": null,
      "outputs": [
        {
          "output_type": "stream",
          "name": "stdout",
          "text": [
            "Accuracy score = 0.9679077204202833\n"
          ]
        }
      ]
    },
    {
      "cell_type": "markdown",
      "source": [
        "## Download the model as a `pickle` file"
      ],
      "metadata": {
        "id": "x7A0mUfaaSnv"
      }
    },
    {
      "cell_type": "code",
      "source": [
        "from google.colab import files\n",
        "files.download(\"/content/model.pkl\")"
      ],
      "metadata": {
        "id": "TPiVrC7uwttd"
      },
      "execution_count": null,
      "outputs": []
    },
    {
      "cell_type": "markdown",
      "source": [
        "## Visualizing the pipeline"
      ],
      "metadata": {
        "id": "CWxAWBJLiWPX"
      }
    },
    {
      "cell_type": "code",
      "source": [
        "from sklearn.pipeline import Pipeline\n",
        "from sklearn.ensemble import HistGradientBoostingClassifier\n",
        "from sklearn import set_config"
      ],
      "metadata": {
        "id": "5k0m9SlWi0sX"
      },
      "execution_count": null,
      "outputs": []
    },
    {
      "cell_type": "code",
      "source": [
        "steps =   {'balancing': \"Undersample the biggest dataset\",\n",
        "  'Feature preprocessor': None,\n",
        "  'classifier': HistGradientBoostingClassifier(early_stopping=True,\n",
        "                                 l2_regularization=1.3153561911035717e-10,\n",
        "                                 learning_rate=0.025345400213312417, loss='auto',\n",
        "                                 max_iter=512, max_leaf_nodes=16,\n",
        "                                 min_samples_leaf=27, n_iter_no_change=5,\n",
        "                                 random_state=1,\n",
        "                                 validation_fraction=0.2361478213622299,\n",
        "                                 warm_start=True)}\n",
        "\n",
        "pipe = Pipeline(steps)"
      ],
      "metadata": {
        "id": "2rQqHUlpi5mG"
      },
      "execution_count": null,
      "outputs": []
    },
    {
      "cell_type": "code",
      "source": [
        "set_config(display=\"diagram\")\n",
        "pipe  # click on the diagram below to see the details of each step"
      ],
      "metadata": {
        "id": "CM99y1YgjVzl"
      },
      "execution_count": null,
      "outputs": []
    },
    {
      "cell_type": "code",
      "source": [],
      "metadata": {
        "id": "t-6I8QgpliHz"
      },
      "execution_count": null,
      "outputs": []
    }
  ],
  "metadata": {
    "kernelspec": {
      "display_name": "Python 3",
      "language": "python",
      "name": "python3"
    },
    "language_info": {
      "codemirror_mode": {
        "name": "ipython",
        "version": 3
      },
      "file_extension": ".py",
      "mimetype": "text/x-python",
      "name": "python",
      "nbconvert_exporter": "python",
      "pygments_lexer": "ipython3",
      "version": "3.11.2"
    },
    "orig_nbformat": 4,
    "colab": {
      "provenance": []
    },
    "accelerator": "GPU",
    "gpuClass": "standard"
  },
  "nbformat": 4,
  "nbformat_minor": 0
}